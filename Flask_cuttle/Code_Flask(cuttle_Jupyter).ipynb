{
 "cells": [
  {
   "cell_type": "code",
   "execution_count": null,
   "id": "20c2fa56",
   "metadata": {},
   "outputs": [],
   "source": [
    "#Importer les modules:"
   ]
  },
  {
   "cell_type": "code",
   "execution_count": null,
   "id": "305a4a96",
   "metadata": {},
   "outputs": [],
   "source": [
    "import pandas as pd\n",
    "import numpy as np\n",
    "import seaborn as sns\n",
    "import matplotlib.pyplot as plt\n",
    "from sklearn.decomposition import PCA\n",
    "from sklearn.cluster import KMeans\n",
    "from sklearn.compose import ColumnTransformer\n",
    "import colorama\n",
    "from colorama import Fore\n",
    "from colorama import Style\n",
    "import os, sys\n",
    "import matplotlib\n",
    "from matplotlib import cm\n",
    "from matplotlib.patches import Circle, Wedge, Rectangle\n",
    "from math import log10\n",
    "import gc\n",
    "import time\n",
    "from contextlib import contextmanager\n",
    "from lightgbm import LGBMClassifier\n",
    "from sklearn.metrics import roc_auc_score, roc_curve, accuracy_score, f1_score, precision_score, recall_score \n",
    "from sklearn.model_selection import KFold, StratifiedKFold\n",
    "from sklearn.model_selection import cross_val_score\n",
    "from sklearn.ensemble import AdaBoostClassifier\n",
    "from xgboost import XGBClassifier\n",
    "from sklearn.dummy import DummyClassifier\n",
    "from sklearn.metrics import classification_report\n",
    "\n",
    "from imblearn.over_sampling import SMOTE \n",
    "from imblearn.over_sampling import SMOTENC\n",
    "\n",
    "import scipy.stats as stats\n",
    "import shap\n",
    "import lime\n",
    "from lime import lime_tabular\n",
    "import random\n",
    "\n",
    "import statsmodels.api as sm\n",
    "from statsmodels.formula.api import ols\n",
    "\n",
    "\n",
    "import ast\n",
    "import scipy.stats as stats\n",
    "import re\n",
    "from sklearn.preprocessing import StandardScaler\n",
    "from sklearn.preprocessing import OneHotEncoder\n",
    "from sklearn.dummy import DummyRegressor\n",
    "from sklearn.linear_model import LinearRegression\n",
    "from sklearn.linear_model import LogisticRegression\n",
    "from sklearn.linear_model import ElasticNet\n",
    "from sklearn.ensemble import RandomForestRegressor\n",
    "from sklearn.metrics import fbeta_score\n",
    "from sklearn.metrics import precision_score\n",
    "from sklearn.metrics import recall_score\n",
    "from sklearn.metrics import confusion_matrix\n",
    "from sklearn.svm import SVR\n",
    "from sklearn.model_selection import train_test_split\n",
    "\n",
    "from sklearn.model_selection import GridSearchCV\n",
    "from sklearn.metrics import r2_score\n",
    "from sklearn.metrics import mean_squared_error\n",
    "from sklearn.metrics import mean_absolute_error\n",
    "from sklearn import metrics\n",
    "from sklearn.inspection import permutation_importance\n",
    "import math\n",
    "from datetime import datetime\n",
    "from datetime import timedelta, date\n",
    "\n",
    "from functools import reduce\n",
    "from sklearn.preprocessing import MinMaxScaler\n",
    "\n",
    "import pickle"
   ]
  },
  {
   "cell_type": "code",
   "execution_count": null,
   "id": "641cedf9",
   "metadata": {},
   "outputs": [],
   "source": [
    "#----------------------------------------------------------------------------------------------------------------------\n",
    "#D. Ce que l'on veut mettre sur flask.\n",
    "\n",
    "#Je veux la base de données entière suite à tous ces traitements (train+test) pour avoir tous le clients.\n",
    "#Je veux les bases qui ont servi pour entraîner et tester le modèle. (Celles ré-équilibrées avec SMOTE).\n",
    "#Je veux le meilleure modèle entraîné (il ne faut pas le ré-entraîner à chaque fois).\n",
    "#Je veux le rajout de la fonction coût métier.\n",
    "#Je veux le 'training_data'= 'X_train_req', pour pouvoir avoir la fonction 'explainer' de lime.\n",
    "#Je veux obtenir le score final donné (Défaut:1, Sain:0), la probabilité associée et l'explication.\n",
    "\n",
    "#D.1 Base de données entière suite à tous ces traînements."
   ]
  },
  {
   "cell_type": "code",
   "execution_count": null,
   "id": "ec99205a",
   "metadata": {},
   "outputs": [],
   "source": [
    "Base_complete=pd.read_csv('Base_complete.csv', sep=',', low_memory=False) "
   ]
  },
  {
   "cell_type": "code",
   "execution_count": null,
   "id": "f1efa726",
   "metadata": {},
   "outputs": [],
   "source": [
    "#D.2 Bases qui ont servi pour entraîner et tester le modèle. (Celles ré-équilibrées avec SMOTE)"
   ]
  },
  {
   "cell_type": "code",
   "execution_count": null,
   "id": "35c10ad6",
   "metadata": {},
   "outputs": [],
   "source": [
    "X_train_req_saved=pd.read_csv('X_train_req_saved.csv', sep=',', low_memory=False)"
   ]
  },
  {
   "cell_type": "code",
   "execution_count": null,
   "id": "f8be0ed9",
   "metadata": {},
   "outputs": [],
   "source": [
    "X_test_req_saved=pd.read_csv('X_test_req_saved.csv', sep=',', low_memory=False)"
   ]
  },
  {
   "cell_type": "code",
   "execution_count": null,
   "id": "2546cd50",
   "metadata": {},
   "outputs": [],
   "source": [
    "y_train_req_saved=pd.read_csv('y_train_req_saved.csv', sep=',', low_memory=False)"
   ]
  },
  {
   "cell_type": "code",
   "execution_count": null,
   "id": "42492223",
   "metadata": {},
   "outputs": [],
   "source": [
    "y_test_req_saved=pd.read_csv('y_test_req_saved.csv', sep=',', low_memory=False)"
   ]
  },
  {
   "cell_type": "code",
   "execution_count": null,
   "id": "64fc3380",
   "metadata": {},
   "outputs": [],
   "source": [
    "#D.3 Meilleur modèle entraîné."
   ]
  },
  {
   "cell_type": "code",
   "execution_count": null,
   "id": "15632088",
   "metadata": {},
   "outputs": [],
   "source": [
    "# Load le pickled model\n",
    "with open('model_pkl' , 'rb') as f:\n",
    "     saved_model_from_pickle= pickle.load(f)"
   ]
  },
  {
   "cell_type": "code",
   "execution_count": null,
   "id": "d5325a25",
   "metadata": {},
   "outputs": [],
   "source": [
    "#cuttle-environment-set-config score route=/api/score methods=POST response=output2\n",
    "saved_model_from_pickle.predict(Base_complete)"
   ]
  },
  {
   "cell_type": "code",
   "execution_count": null,
   "id": "0ba60c21",
   "metadata": {},
   "outputs": [],
   "source": [
    "Proba= pd.DataFrame({'SK_ID_CURR': Base_complete.SK_ID_CURR, 'Proba': saved_model_from_pickle.predict_proba(Base_complete)[:,1]})\n",
    "Proba"
   ]
  },
  {
   "cell_type": "code",
   "execution_count": null,
   "id": "db7dfa2a",
   "metadata": {},
   "outputs": [],
   "source": [
    "#D.4 Rajout de la fonction coût métier."
   ]
  },
  {
   "cell_type": "code",
   "execution_count": null,
   "id": "d1abfddc",
   "metadata": {},
   "outputs": [],
   "source": [
    "defaut_CM = []\n",
    "\n",
    "for row in Proba['Proba']:\n",
    "    if row > 0.091 :defaut_CM.append(1)\n",
    "    else:defaut_CM.append(0)"
   ]
  },
  {
   "cell_type": "code",
   "execution_count": null,
   "id": "a63db23e",
   "metadata": {},
   "outputs": [],
   "source": [
    "Proba['Predict_Defaut_Avec_CM']=defaut_CM\n",
    "Proba"
   ]
  },
  {
   "cell_type": "code",
   "execution_count": null,
   "id": "f998fe67",
   "metadata": {},
   "outputs": [],
   "source": [
    "#D.5 La partie 'Lime' ('explainer' et 'trainind_data')"
   ]
  },
  {
   "cell_type": "code",
   "execution_count": null,
   "id": "a7e1fa8f",
   "metadata": {},
   "outputs": [],
   "source": [
    "explainer = lime_tabular.LimeTabularExplainer(training_data= X_train_req_saved.values, feature_names=X_train_req_saved.columns, class_names=['Not Default','Default'], mode='classification')"
   ]
  },
  {
   "cell_type": "code",
   "execution_count": null,
   "id": "586b113f",
   "metadata": {},
   "outputs": [],
   "source": [
    "#ATTENTION:\n",
    "#Les explications des 'features importances' avec LIME sont le résultat d'un processus d'échantillonnage aléatoire, \n",
    "#on ne dois donc pas obtenir exactement la même explication à chaque fois, à moins qu'on définisse le 'random seed' \n",
    "#avant chaque exécution de l''explain_instance'.\n",
    "\n",
    "#Faisons une fonction qui le fasse:"
   ]
  },
  {
   "cell_type": "code",
   "execution_count": null,
   "id": "261da335",
   "metadata": {},
   "outputs": [],
   "source": [
    "def explain(data_row, predict_fn):\n",
    "    np.random.seed(16)\n",
    "    return explainer.explain_instance(data_row, predict_fn)"
   ]
  },
  {
   "cell_type": "code",
   "execution_count": null,
   "id": "44ab7cec",
   "metadata": {},
   "outputs": [],
   "source": [
    "#D.6 Obtention des résultats."
   ]
  },
  {
   "cell_type": "code",
   "execution_count": null,
   "id": "67829f96",
   "metadata": {},
   "outputs": [],
   "source": [
    "n = float(input('What is your SK_ID_CURR?'))\n",
    "s=Base_complete[Base_complete['SK_ID_CURR']==n].index[0]\n",
    "status=Proba.loc[s, 'Predict_Defaut_Avec_CM']\n",
    "if status==1:\n",
    "    stat='Default'\n",
    "else: \n",
    "    stat='Not Default'\n",
    "\n",
    "probability=Proba.loc[s, 'Proba']\n",
    "#exp_s=explain(Base_complete.iloc[s],saved_model_from_pickle.predict_proba)\n",
    "\n",
    "#o1=stat\n",
    "o2=probability\n",
    "\n",
    "#output1=str(o1) \n",
    "output2=str(o2) \n",
    "#exp_s.show_in_notebook(show_table=True) \n",
    "\n",
    "#print(\"Status:\", output1)\n",
    "print(\"Probability:\", output2)\n"
   ]
  },
  {
   "cell_type": "code",
   "execution_count": null,
   "id": "521b234d",
   "metadata": {},
   "outputs": [],
   "source": []
  },
  {
   "cell_type": "code",
   "execution_count": null,
   "id": "b28a1983",
   "metadata": {},
   "outputs": [],
   "source": []
  },
  {
   "cell_type": "code",
   "execution_count": null,
   "id": "41cc4fdb",
   "metadata": {},
   "outputs": [],
   "source": []
  },
  {
   "cell_type": "code",
   "execution_count": null,
   "id": "a24e7727",
   "metadata": {},
   "outputs": [],
   "source": []
  }
 ],
 "metadata": {
  "kernelspec": {
   "display_name": "Python 3 (ipykernel)",
   "language": "python",
   "name": "python3"
  },
  "language_info": {
   "codemirror_mode": {
    "name": "ipython",
    "version": 3
   },
   "file_extension": ".py",
   "mimetype": "text/x-python",
   "name": "python",
   "nbconvert_exporter": "python",
   "pygments_lexer": "ipython3",
   "version": "3.9.7"
  }
 },
 "nbformat": 4,
 "nbformat_minor": 5
}
